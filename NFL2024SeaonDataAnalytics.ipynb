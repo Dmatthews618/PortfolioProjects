{
 "cells": [
  {
   "cell_type": "code",
   "execution_count": 6,
   "id": "c139f7c6-6bf6-40c9-8ef3-acc6c6a44209",
   "metadata": {},
   "outputs": [
    {
     "name": "stdout",
     "output_type": "stream",
     "text": [
      "Collecting nflfastpy\n",
      "  Downloading nflfastpy-0.0.14-py3-none-any.whl.metadata (657 bytes)\n",
      "Requirement already satisfied: pandas in c:\\users\\dmatt\\anaconda3\\lib\\site-packages (from nflfastpy) (2.2.2)\n",
      "Requirement already satisfied: requests in c:\\users\\dmatt\\anaconda3\\lib\\site-packages (from nflfastpy) (2.32.3)\n",
      "Requirement already satisfied: matplotlib in c:\\users\\dmatt\\anaconda3\\lib\\site-packages (from nflfastpy) (3.9.2)\n",
      "Collecting pyreadr (from nflfastpy)\n",
      "  Downloading pyreadr-0.5.3-cp312-cp312-win_amd64.whl.metadata (1.4 kB)\n",
      "Requirement already satisfied: contourpy>=1.0.1 in c:\\users\\dmatt\\anaconda3\\lib\\site-packages (from matplotlib->nflfastpy) (1.2.0)\n",
      "Requirement already satisfied: cycler>=0.10 in c:\\users\\dmatt\\anaconda3\\lib\\site-packages (from matplotlib->nflfastpy) (0.11.0)\n",
      "Requirement already satisfied: fonttools>=4.22.0 in c:\\users\\dmatt\\anaconda3\\lib\\site-packages (from matplotlib->nflfastpy) (4.51.0)\n",
      "Requirement already satisfied: kiwisolver>=1.3.1 in c:\\users\\dmatt\\anaconda3\\lib\\site-packages (from matplotlib->nflfastpy) (1.4.4)\n",
      "Requirement already satisfied: numpy>=1.23 in c:\\users\\dmatt\\anaconda3\\lib\\site-packages (from matplotlib->nflfastpy) (1.26.4)\n",
      "Requirement already satisfied: packaging>=20.0 in c:\\users\\dmatt\\anaconda3\\lib\\site-packages (from matplotlib->nflfastpy) (24.1)\n",
      "Requirement already satisfied: pillow>=8 in c:\\users\\dmatt\\anaconda3\\lib\\site-packages (from matplotlib->nflfastpy) (10.4.0)\n",
      "Requirement already satisfied: pyparsing>=2.3.1 in c:\\users\\dmatt\\anaconda3\\lib\\site-packages (from matplotlib->nflfastpy) (3.1.2)\n",
      "Requirement already satisfied: python-dateutil>=2.7 in c:\\users\\dmatt\\anaconda3\\lib\\site-packages (from matplotlib->nflfastpy) (2.9.0.post0)\n",
      "Requirement already satisfied: pytz>=2020.1 in c:\\users\\dmatt\\anaconda3\\lib\\site-packages (from pandas->nflfastpy) (2024.1)\n",
      "Requirement already satisfied: tzdata>=2022.7 in c:\\users\\dmatt\\anaconda3\\lib\\site-packages (from pandas->nflfastpy) (2023.3)\n",
      "Requirement already satisfied: charset-normalizer<4,>=2 in c:\\users\\dmatt\\anaconda3\\lib\\site-packages (from requests->nflfastpy) (3.3.2)\n",
      "Requirement already satisfied: idna<4,>=2.5 in c:\\users\\dmatt\\anaconda3\\lib\\site-packages (from requests->nflfastpy) (3.7)\n",
      "Requirement already satisfied: urllib3<3,>=1.21.1 in c:\\users\\dmatt\\anaconda3\\lib\\site-packages (from requests->nflfastpy) (2.2.3)\n",
      "Requirement already satisfied: certifi>=2017.4.17 in c:\\users\\dmatt\\anaconda3\\lib\\site-packages (from requests->nflfastpy) (2025.1.31)\n",
      "Requirement already satisfied: six>=1.5 in c:\\users\\dmatt\\anaconda3\\lib\\site-packages (from python-dateutil>=2.7->matplotlib->nflfastpy) (1.16.0)\n",
      "Downloading nflfastpy-0.0.14-py3-none-any.whl (3.5 kB)\n",
      "Downloading pyreadr-0.5.3-cp312-cp312-win_amd64.whl (1.4 MB)\n",
      "   ---------------------------------------- 0.0/1.4 MB ? eta -:--:--\n",
      "   ---------------------------------------- 1.4/1.4 MB 14.2 MB/s eta 0:00:00\n",
      "Installing collected packages: pyreadr, nflfastpy\n",
      "Successfully installed nflfastpy-0.0.14 pyreadr-0.5.3\n"
     ]
    }
   ],
   "source": [
    "# install the nflfastpy package\n",
    "!pip install nflfastpy"
   ]
  },
  {
   "cell_type": "code",
   "execution_count": null,
   "id": "35b0a74a-72fa-44e4-ab2f-84182fa0cc19",
   "metadata": {},
   "outputs": [],
   "source": []
  }
 ],
 "metadata": {
  "kernelspec": {
   "display_name": "Python [conda env:base] *",
   "language": "python",
   "name": "conda-base-py"
  },
  "language_info": {
   "codemirror_mode": {
    "name": "ipython",
    "version": 3
   },
   "file_extension": ".py",
   "mimetype": "text/x-python",
   "name": "python",
   "nbconvert_exporter": "python",
   "pygments_lexer": "ipython3",
   "version": "3.12.7"
  }
 },
 "nbformat": 4,
 "nbformat_minor": 5
}
